{
 "cells": [
  {
   "cell_type": "code",
   "execution_count": 1,
   "id": "39e98bb1-bb50-4f33-a5a9-e3384cef7ba4",
   "metadata": {},
   "outputs": [],
   "source": [
    "import streamlit as st\n",
    "import requests\n"
   ]
  },
  {
   "cell_type": "code",
   "execution_count": 2,
   "id": "26c5ce07-9b06-46ad-b177-48dce0c956ae",
   "metadata": {},
   "outputs": [
    {
     "name": "stderr",
     "output_type": "stream",
     "text": [
      "2025-10-19 10:35:39.713 WARNING streamlit.runtime.scriptrunner_utils.script_run_context: Thread 'MainThread': missing ScriptRunContext! This warning can be ignored when running in bare mode.\n",
      "2025-10-19 10:35:39.856 \n",
      "  \u001b[33m\u001b[1mWarning:\u001b[0m to view this Streamlit app on a browser, run it with the following\n",
      "  command:\n",
      "\n",
      "    streamlit run /Library/Frameworks/Python.framework/Versions/3.14/lib/python3.14/site-packages/ipykernel_launcher.py [ARGUMENTS]\n",
      "2025-10-19 10:35:39.856 Thread 'MainThread': missing ScriptRunContext! This warning can be ignored when running in bare mode.\n",
      "2025-10-19 10:35:39.856 Thread 'MainThread': missing ScriptRunContext! This warning can be ignored when running in bare mode.\n",
      "2025-10-19 10:35:39.857 Thread 'MainThread': missing ScriptRunContext! This warning can be ignored when running in bare mode.\n",
      "2025-10-19 10:35:39.857 Thread 'MainThread': missing ScriptRunContext! This warning can be ignored when running in bare mode.\n",
      "2025-10-19 10:35:39.857 Thread 'MainThread': missing ScriptRunContext! This warning can be ignored when running in bare mode.\n",
      "2025-10-19 10:35:39.857 Thread 'MainThread': missing ScriptRunContext! This warning can be ignored when running in bare mode.\n",
      "2025-10-19 10:35:39.858 Thread 'MainThread': missing ScriptRunContext! This warning can be ignored when running in bare mode.\n",
      "2025-10-19 10:35:39.858 Thread 'MainThread': missing ScriptRunContext! This warning can be ignored when running in bare mode.\n",
      "2025-10-19 10:35:39.858 Thread 'MainThread': missing ScriptRunContext! This warning can be ignored when running in bare mode.\n",
      "2025-10-19 10:35:39.858 Session state does not function when running a script without `streamlit run`\n",
      "2025-10-19 10:35:39.858 Thread 'MainThread': missing ScriptRunContext! This warning can be ignored when running in bare mode.\n",
      "2025-10-19 10:35:39.859 Thread 'MainThread': missing ScriptRunContext! This warning can be ignored when running in bare mode.\n",
      "2025-10-19 10:35:39.859 Thread 'MainThread': missing ScriptRunContext! This warning can be ignored when running in bare mode.\n"
     ]
    }
   ],
   "source": [
    "# Function to get latitude and longitude from city name\n",
    "def get_coordinates(city_name):\n",
    "    url = f\"https://geocoding-api.open-meteo.com/v1/search?name={city_name}\"\n",
    "    response = requests.get(url)\n",
    "    data = response.json()\n",
    "    \n",
    "    if \"results\" in data:\n",
    "        lat = data[\"results\"][0][\"latitude\"]\n",
    "        lon = data[\"results\"][0][\"longitude\"]\n",
    "        return lat, lon\n",
    "    else:\n",
    "        return None, None\n",
    "\n",
    "# Function to get hourly temperature\n",
    "def get_hourly_temperature(lat, lon):\n",
    "    url = f\"https://api.open-meteo.com/v1/forecast?latitude={lat}&longitude={lon}&hourly=temperature_2m\"\n",
    "    response = requests.get(url)\n",
    "    data = response.json()\n",
    "    \n",
    "    hourly_data = []\n",
    "    for time, temp in zip(data['hourly']['time'], data['hourly']['temperature_2m']):\n",
    "        hourly_data.append(f\"{time} → {temp}°C\")\n",
    "    return hourly_data\n",
    "\n",
    "# Streamlit UI\n",
    "st.title(\"🌦️ AI Weather Agent\")\n",
    "st.subheader(\"Check hourly temperatures for any city\")\n",
    "\n",
    "city = st.text_input(\"Enter city name:\")\n",
    "\n",
    "if city:\n",
    "    lat, lon = get_coordinates(city)\n",
    "    if lat is None:\n",
    "        st.error(\"City not found.\")\n",
    "    else:\n",
    "        hourly_weather = get_hourly_temperature(lat, lon)\n",
    "        st.success(f\"Showing next 24 hours for {city}\")\n",
    "        st.write(\"\\n\".join(hourly_weather[:24]))  # show first 24 hours"
   ]
  },
  {
   "cell_type": "code",
   "execution_count": null,
   "id": "12632751-8124-46d1-a829-d5f099620a0c",
   "metadata": {},
   "outputs": [],
   "source": []
  }
 ],
 "metadata": {
  "kernelspec": {
   "display_name": "Python 3 (ipykernel)",
   "language": "python",
   "name": "python3"
  },
  "language_info": {
   "codemirror_mode": {
    "name": "ipython",
    "version": 3
   },
   "file_extension": ".py",
   "mimetype": "text/x-python",
   "name": "python",
   "nbconvert_exporter": "python",
   "pygments_lexer": "ipython3",
   "version": "3.14.0"
  }
 },
 "nbformat": 4,
 "nbformat_minor": 5
}
