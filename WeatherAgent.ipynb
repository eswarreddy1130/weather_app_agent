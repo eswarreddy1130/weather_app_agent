{
 "cells": [
  {
   "cell_type": "code",
   "execution_count": 2,
   "id": "d65ad5ec-94e7-42a9-b54c-22e3eadba27b",
   "metadata": {},
   "outputs": [],
   "source": [
    "import requests\n",
    "\n"
   ]
  },
  {
   "cell_type": "code",
   "execution_count": 4,
   "id": "c3c29a15-5ab8-4020-8122-651d0f925478",
   "metadata": {},
   "outputs": [
    {
     "name": "stdout",
     "output_type": "stream",
     "text": [
      "2025-10-19T00:00 → 2.7°C\n",
      "2025-10-19T01:00 → 2.1°C\n",
      "2025-10-19T02:00 → 2.0°C\n",
      "2025-10-19T03:00 → 1.5°C\n",
      "2025-10-19T04:00 → 1.3°C\n"
     ]
    }
   ],
   "source": [
    "\n",
    "# Berlin coordinates example\n",
    "latitude = 52.52\n",
    "longitude = 13.41\n",
    "\n",
    "# Open-Meteo API for hourly temperature\n",
    "url = f\"https://api.open-meteo.com/v1/forecast?latitude={latitude}&longitude={longitude}&hourly=temperature_2m\"\n",
    "\n",
    "response = requests.get(url)\n",
    "data = response.json()\n",
    "\n",
    "# Print first 5 hourly temperatures\n",
    "for time, temp in zip(data['hourly']['time'][:5], data['hourly']['temperature_2m'][:5]):\n",
    "    print(f\"{time} → {temp}°C\")"
   ]
  },
  {
   "cell_type": "code",
   "execution_count": 5,
   "id": "7fa949f9-46f5-42c0-a500-fbb6477b04f1",
   "metadata": {},
   "outputs": [],
   "source": [
    "def get_hourly_temperature(lat, lon):\n",
    "    url = f\"https://api.open-meteo.com/v1/forecast?latitude={lat}&longitude={lon}&hourly=temperature_2m\"\n",
    "    response = requests.get(url)\n",
    "    data = response.json()\n",
    "    \n",
    "    hourly_data = []\n",
    "    for time, temp in zip(data['hourly']['time'], data['hourly']['temperature_2m']):\n",
    "        hourly_data.append(f\"{time} → {temp}°C\")\n",
    "    return hourly_data"
   ]
  },
  {
   "cell_type": "code",
   "execution_count": 6,
   "id": "5988fc96-9485-4c1f-bab3-bd54e397c20f",
   "metadata": {},
   "outputs": [
    {
     "name": "stdout",
     "output_type": "stream",
     "text": [
      "2025-10-19T00:00 → 2.7°C\n",
      "2025-10-19T01:00 → 2.1°C\n",
      "2025-10-19T02:00 → 2.0°C\n",
      "2025-10-19T03:00 → 1.5°C\n",
      "2025-10-19T04:00 → 1.3°C\n",
      "2025-10-19T05:00 → 1.5°C\n",
      "2025-10-19T06:00 → 1.5°C\n",
      "2025-10-19T07:00 → 2.1°C\n",
      "2025-10-19T08:00 → 3.5°C\n",
      "2025-10-19T09:00 → 5.5°C\n"
     ]
    }
   ],
   "source": [
    "hourly_weather = get_hourly_temperature(52.52, 13.41)\n",
    "for h in hourly_weather[:10]:  # show first 10 hours\n",
    "    print(h)"
   ]
  },
  {
   "cell_type": "code",
   "execution_count": 8,
   "id": "e457bd2d-189f-4dd7-8a8d-6c17bf76c586",
   "metadata": {},
   "outputs": [
    {
     "name": "stdin",
     "output_type": "stream",
     "text": [
      "Enter city name:  hyderabad\n"
     ]
    },
    {
     "name": "stdout",
     "output_type": "stream",
     "text": [
      "2025-10-19T00:00 → 21.9°C\n",
      "2025-10-19T01:00 → 21.7°C\n",
      "2025-10-19T02:00 → 22.9°C\n",
      "2025-10-19T03:00 → 24.9°C\n",
      "2025-10-19T04:00 → 26.5°C\n",
      "2025-10-19T05:00 → 27.9°C\n",
      "2025-10-19T06:00 → 29.1°C\n",
      "2025-10-19T07:00 → 29.6°C\n",
      "2025-10-19T08:00 → 29.5°C\n",
      "2025-10-19T09:00 → 30.1°C\n"
     ]
    }
   ],
   "source": [
    "def get_coordinates(city_name):\n",
    "    url = f\"https://geocoding-api.open-meteo.com/v1/search?name={city_name}\"\n",
    "    response = requests.get(url)\n",
    "    data = response.json()\n",
    "    \n",
    "    if \"results\" in data:\n",
    "        lat = data[\"results\"][0][\"latitude\"]\n",
    "        lon = data[\"results\"][0][\"longitude\"]\n",
    "        return lat, lon\n",
    "    else:\n",
    "        return None, None\n",
    "\n",
    "city = input(\"Enter city name: \")\n",
    "lat, lon = get_coordinates(city)\n",
    "\n",
    "if lat:\n",
    "    hourly_weather = get_hourly_temperature(lat, lon)\n",
    "    for h in hourly_weather[:10]:\n",
    "        print(h)\n",
    "else:\n",
    "    print(\"City not found.\")"
   ]
  },
  {
   "cell_type": "code",
   "execution_count": null,
   "id": "d635268e-71e0-4176-9fcf-838a7d638c8c",
   "metadata": {},
   "outputs": [],
   "source": []
  }
 ],
 "metadata": {
  "kernelspec": {
   "display_name": "Python 3 (ipykernel)",
   "language": "python",
   "name": "python3"
  },
  "language_info": {
   "codemirror_mode": {
    "name": "ipython",
    "version": 3
   },
   "file_extension": ".py",
   "mimetype": "text/x-python",
   "name": "python",
   "nbconvert_exporter": "python",
   "pygments_lexer": "ipython3",
   "version": "3.14.0"
  }
 },
 "nbformat": 4,
 "nbformat_minor": 5
}
